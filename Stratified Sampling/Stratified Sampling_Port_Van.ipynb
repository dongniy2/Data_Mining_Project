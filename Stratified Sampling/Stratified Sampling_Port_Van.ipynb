{
 "cells": [
  {
   "cell_type": "code",
   "execution_count": 1,
   "id": "9b651c5d-6685-4595-8349-3392c4f93f1a",
   "metadata": {
    "tags": []
   },
   "outputs": [],
   "source": [
    "import pandas as pd\n",
    "import numpy as np\n",
    "\n",
    "import matplotlib.pyplot as plt\n",
    "import seaborn as sns\n",
    "\n",
    "import json\n",
    "from pathlib import Path\n",
    "from time import time\n",
    "\n",
    "import warnings\n",
    "warnings.filterwarnings('ignore')"
   ]
  },
  {
   "cell_type": "markdown",
   "id": "6f8b399f-2b41-42aa-ae54-a613f06b063e",
   "metadata": {},
   "source": [
    "### Read yelp review and business data"
   ]
  },
  {
   "cell_type": "code",
   "execution_count": 2,
   "id": "58380eea",
   "metadata": {},
   "outputs": [],
   "source": [
    "def load_rows(file_path, nrows=None, only_return_count=False, verbose=True):\n",
    "    \"\"\"\n",
    "    Returns dataframe from json file\n",
    "    \"\"\"\n",
    "    tic = time()\n",
    "    with open(file_path, encoding = 'utf-8') as json_file:\n",
    "        count = 0\n",
    "        objs = []\n",
    "        line = json_file.readline()\n",
    "        while (nrows is None or count<nrows) and line:\n",
    "            count += 1\n",
    "            if not only_return_count:\n",
    "                obj = json.loads(line)\n",
    "                objs.append(obj)\n",
    "            line = json_file.readline()\n",
    "        toc = time()\n",
    "        if verbose:\n",
    "            print(file_path.split('/')[-1], 'loaded. Count =', count, ', Time =', round(toc-tic,2), 'secs.')\n",
    "\n",
    "        if only_return_count:\n",
    "            return count\n",
    "\n",
    "        return pd.DataFrame(objs)"
   ]
  },
  {
   "cell_type": "code",
   "execution_count": 3,
   "id": "6ddc4f84",
   "metadata": {},
   "outputs": [],
   "source": [
    "path_reviews = 'D:\\\\Chicago_MScA\\\\Winter 2022\\\\Data Mining Principles\\\\Project\\\\yelp_academic_dataset_review.json'"
   ]
  },
  {
   "cell_type": "code",
   "execution_count": 4,
   "id": "09ad518d",
   "metadata": {},
   "outputs": [
    {
     "name": "stdout",
     "output_type": "stream",
     "text": [
      "D:\\Chicago_MScA\\Winter 2022\\Data Mining Principles\\Project\\yelp_academic_dataset_review.json loaded. Count = 8635403 , Time = 75.52 secs.\n"
     ]
    }
   ],
   "source": [
    "df_reviews = load_rows(path_reviews)"
   ]
  },
  {
   "cell_type": "code",
   "execution_count": 5,
   "id": "c445f23b",
   "metadata": {},
   "outputs": [
    {
     "data": {
      "text/html": [
       "<div>\n",
       "<style scoped>\n",
       "    .dataframe tbody tr th:only-of-type {\n",
       "        vertical-align: middle;\n",
       "    }\n",
       "\n",
       "    .dataframe tbody tr th {\n",
       "        vertical-align: top;\n",
       "    }\n",
       "\n",
       "    .dataframe thead th {\n",
       "        text-align: right;\n",
       "    }\n",
       "</style>\n",
       "<table border=\"1\" class=\"dataframe\">\n",
       "  <thead>\n",
       "    <tr style=\"text-align: right;\">\n",
       "      <th></th>\n",
       "      <th>review_id</th>\n",
       "      <th>user_id</th>\n",
       "      <th>business_id</th>\n",
       "      <th>stars</th>\n",
       "      <th>useful</th>\n",
       "      <th>funny</th>\n",
       "      <th>cool</th>\n",
       "      <th>text</th>\n",
       "      <th>date</th>\n",
       "    </tr>\n",
       "  </thead>\n",
       "  <tbody>\n",
       "    <tr>\n",
       "      <th>0</th>\n",
       "      <td>lWC-xP3rd6obsecCYsGZRg</td>\n",
       "      <td>ak0TdVmGKo4pwqdJSTLwWw</td>\n",
       "      <td>buF9druCkbuXLX526sGELQ</td>\n",
       "      <td>4.0</td>\n",
       "      <td>3</td>\n",
       "      <td>1</td>\n",
       "      <td>1</td>\n",
       "      <td>Apparently Prides Osteria had a rough summer a...</td>\n",
       "      <td>2014-10-11 03:34:02</td>\n",
       "    </tr>\n",
       "    <tr>\n",
       "      <th>1</th>\n",
       "      <td>8bFej1QE5LXp4O05qjGqXA</td>\n",
       "      <td>YoVfDbnISlW0f7abNQACIg</td>\n",
       "      <td>RA4V8pr014UyUbDvI-LW2A</td>\n",
       "      <td>4.0</td>\n",
       "      <td>1</td>\n",
       "      <td>0</td>\n",
       "      <td>0</td>\n",
       "      <td>This store is pretty good. Not as great as Wal...</td>\n",
       "      <td>2015-07-03 20:38:25</td>\n",
       "    </tr>\n",
       "    <tr>\n",
       "      <th>2</th>\n",
       "      <td>NDhkzczKjLshODbqDoNLSg</td>\n",
       "      <td>eC5evKn1TWDyHCyQAwguUw</td>\n",
       "      <td>_sS2LBIGNT5NQb6PD1Vtjw</td>\n",
       "      <td>5.0</td>\n",
       "      <td>0</td>\n",
       "      <td>0</td>\n",
       "      <td>0</td>\n",
       "      <td>I called WVM on the recommendation of a couple...</td>\n",
       "      <td>2013-05-28 20:38:06</td>\n",
       "    </tr>\n",
       "    <tr>\n",
       "      <th>3</th>\n",
       "      <td>T5fAqjjFooT4V0OeZyuk1w</td>\n",
       "      <td>SFQ1jcnGguO0LYWnbbftAA</td>\n",
       "      <td>0AzLzHfOJgL7ROwhdww2ew</td>\n",
       "      <td>2.0</td>\n",
       "      <td>1</td>\n",
       "      <td>1</td>\n",
       "      <td>1</td>\n",
       "      <td>I've stayed at many Marriott and Renaissance M...</td>\n",
       "      <td>2010-01-08 02:29:15</td>\n",
       "    </tr>\n",
       "    <tr>\n",
       "      <th>4</th>\n",
       "      <td>sjm_uUcQVxab_EeLCqsYLg</td>\n",
       "      <td>0kA0PAJ8QFMeveQWHFqz2A</td>\n",
       "      <td>8zehGz9jnxPqXtOc7KaJxA</td>\n",
       "      <td>4.0</td>\n",
       "      <td>0</td>\n",
       "      <td>0</td>\n",
       "      <td>0</td>\n",
       "      <td>The food is always great here. The service fro...</td>\n",
       "      <td>2011-07-28 18:05:01</td>\n",
       "    </tr>\n",
       "  </tbody>\n",
       "</table>\n",
       "</div>"
      ],
      "text/plain": [
       "                review_id                 user_id             business_id  \\\n",
       "0  lWC-xP3rd6obsecCYsGZRg  ak0TdVmGKo4pwqdJSTLwWw  buF9druCkbuXLX526sGELQ   \n",
       "1  8bFej1QE5LXp4O05qjGqXA  YoVfDbnISlW0f7abNQACIg  RA4V8pr014UyUbDvI-LW2A   \n",
       "2  NDhkzczKjLshODbqDoNLSg  eC5evKn1TWDyHCyQAwguUw  _sS2LBIGNT5NQb6PD1Vtjw   \n",
       "3  T5fAqjjFooT4V0OeZyuk1w  SFQ1jcnGguO0LYWnbbftAA  0AzLzHfOJgL7ROwhdww2ew   \n",
       "4  sjm_uUcQVxab_EeLCqsYLg  0kA0PAJ8QFMeveQWHFqz2A  8zehGz9jnxPqXtOc7KaJxA   \n",
       "\n",
       "   stars  useful  funny  cool  \\\n",
       "0    4.0       3      1     1   \n",
       "1    4.0       1      0     0   \n",
       "2    5.0       0      0     0   \n",
       "3    2.0       1      1     1   \n",
       "4    4.0       0      0     0   \n",
       "\n",
       "                                                text                 date  \n",
       "0  Apparently Prides Osteria had a rough summer a...  2014-10-11 03:34:02  \n",
       "1  This store is pretty good. Not as great as Wal...  2015-07-03 20:38:25  \n",
       "2  I called WVM on the recommendation of a couple...  2013-05-28 20:38:06  \n",
       "3  I've stayed at many Marriott and Renaissance M...  2010-01-08 02:29:15  \n",
       "4  The food is always great here. The service fro...  2011-07-28 18:05:01  "
      ]
     },
     "execution_count": 5,
     "metadata": {},
     "output_type": "execute_result"
    }
   ],
   "source": [
    "df_reviews.head()"
   ]
  },
  {
   "cell_type": "code",
   "execution_count": 7,
   "id": "53ce2b7e",
   "metadata": {},
   "outputs": [],
   "source": [
    "path_business = 'D:\\\\Chicago_MScA\\\\Winter 2022\\\\Data Mining Principles\\\\Project\\\\yelp_academic_dataset_business.json'"
   ]
  },
  {
   "cell_type": "code",
   "execution_count": 8,
   "id": "aaa566a9",
   "metadata": {},
   "outputs": [
    {
     "name": "stdout",
     "output_type": "stream",
     "text": [
      "D:\\Chicago_MScA\\Winter 2022\\Data Mining Principles\\Project\\yelp_academic_dataset_business.json loaded. Count = 160585 , Time = 4.78 secs.\n"
     ]
    }
   ],
   "source": [
    "df_business = load_rows(path_business)"
   ]
  },
  {
   "cell_type": "markdown",
   "id": "732bf534-9617-426a-836f-6e8a5af5074c",
   "metadata": {},
   "source": [
    "### Data Filtering"
   ]
  },
  {
   "cell_type": "code",
   "execution_count": 9,
   "id": "a2d16b6e",
   "metadata": {},
   "outputs": [],
   "source": [
    "rest = df_business.categories.str.contains('Restaurant', na=False)\n",
    "df_business = df_business[rest]\n",
    "df_business.drop(df_business[df_business.is_open == 0].index, inplace=True)\n",
    "df_business = df_business.dropna()"
   ]
  },
  {
   "cell_type": "code",
   "execution_count": 10,
   "id": "61a65842-0d26-411c-86a9-793d7d48ee8a",
   "metadata": {},
   "outputs": [
    {
     "name": "stdout",
     "output_type": "stream",
     "text": [
      "Business Data Shape: (28684, 14)\n"
     ]
    }
   ],
   "source": [
    "print('Business Data Shape:', df_business.shape)"
   ]
  },
  {
   "cell_type": "markdown",
   "id": "df0bdb92-4697-4f43-a2a2-6bd2ad604251",
   "metadata": {},
   "source": [
    "### Define stratified sampling function"
   ]
  },
  {
   "cell_type": "code",
   "execution_count": 9,
   "id": "b0b6fba9",
   "metadata": {},
   "outputs": [],
   "source": [
    "def stratify_data(df_data, stratify_column_name, stratify_values, stratify_proportions, threshold, random_state=0):\n",
    "    \"\"\"Stratifies data according to the values and proportions passed in\n",
    "    Args:\n",
    "        df_data (DataFrame): source data\n",
    "        stratify_column_name (str): The name of the single column in the dataframe that holds the data values that will be used to stratify the data\n",
    "        stratify_values (list of str): A list of all of the potential values for stratifying e.g. \"Male, Graduate\", \"Male, Undergraduate\", \"Female, Graduate\", \"Female, Undergraduate\"\n",
    "        stratify_proportions (list of float): A list of numbers representing the desired propotions for stratifying e.g. 0.4, 0.4, 0.2, 0.2, The list values must add up to 1 and must match the number of values in stratify_values\n",
    "        random_state (int, optional): sets the random_state. Defaults to None.\n",
    "    Returns:\n",
    "        DataFrame: a new dataframe based on df_data that has the new proportions represnting the desired strategy for stratifying\n",
    "    \"\"\"\n",
    "    df_stratified = pd.DataFrame(columns = df_data.columns) # Create an empty DataFrame with column names matching df_data\n",
    "\n",
    "    pos = -1\n",
    "    \n",
    "    for i in range(len(stratify_values)): # Iterate over the stratify values (e.g. \"star\"=5.0, etc.)\n",
    "        pos += 1\n",
    "        if 0 < threshold * stratify_proportions[i] < 1:\n",
    "            ratio_len = 1 # Extract at least 1 review for those items existing\n",
    "        else:\n",
    "            ratio_len = int(threshold * stratify_proportions[i]) # Calculate the number of rows to match the desired proportion\n",
    "        if ratio_len < 0:\n",
    "            break\n",
    "        df_filtered = df_data[df_data[stratify_column_name] ==stratify_values[i]] # Filter the source data based on the currently selected stratify value\n",
    "        # print(stratify_proportions, pos, len(df_filtered), ratio_len)\n",
    "        df_temp = df_filtered.sample(replace=False, n=ratio_len, random_state=random_state) # Sample the filtered data using the calculated ratio\n",
    "        df_stratified = pd.concat([df_stratified, df_temp]) # Add the sampled / stratified datasets together to produce the final result\n",
    "        \n",
    "    return df_stratified # Return the stratified, re-sampled data"
   ]
  },
  {
   "cell_type": "markdown",
   "id": "8d49762e-03f2-46f0-94e9-c29a27c8e289",
   "metadata": {},
   "source": [
    "### Define sampling function"
   ]
  },
  {
   "cell_type": "code",
   "execution_count": null,
   "id": "d928a175",
   "metadata": {},
   "outputs": [],
   "source": [
    "def sample(city):\n",
    "    df = df_business[df_business['city'] == city]\n",
    "    len_df_business = len(df)\n",
    "    business_list = df['business_id'].drop_duplicates()\n",
    "    len_business_list = len(business_list)\n",
    "    \n",
    "    reviews = list()\n",
    "    total_original_reviews = 0\n",
    "\n",
    "    # set threshold as 10\n",
    "    for business in business_list:\n",
    "        N = len(df_reviews[df_reviews['business_id'] == business])\n",
    "        total_original_reviews += N\n",
    "        # print(N)\n",
    "        if N == 0:\n",
    "            continue\n",
    "        # If number of reviews <= 10, retain all reviews, else implement stratified sampling\n",
    "        elif N <= 10:\n",
    "            for line in df_reviews[df_reviews['business_id'] == business].index:\n",
    "                reviews.append(df_reviews[df_reviews['business_id'] == business].loc[line,['business_id', 'stars', 'text']])\n",
    "        else:\n",
    "            star_count = pd.DataFrame(df_reviews[df_reviews['business_id'] == business]['stars'].value_counts()) # Count number of reviews for each star\n",
    "            bus_stars = list(star_count.index)\n",
    "            stratify_proportions = list(star_count['stars'] / N) # Calculate review proportons for each star\n",
    "            #print(star_count)\n",
    "            #print(df_reviews[df_reviews['business_id'] == business])\n",
    "            stratified_reviews = stratify_data(df_reviews[df_reviews['business_id'] == business], 'stars', bus_stars, stratify_proportions, threshold=10)\n",
    "            #print(stratified_reviews)\n",
    "            for line in stratified_reviews.index:\n",
    "                reviews.append(stratified_reviews.loc[line,['business_id', 'stars', 'text']])\n",
    "    \n",
    "    \n",
    "    reviews = pd.DataFrame(reviews)\n",
    "    reviews['city'] = city\n",
    "    len_reviews_sample = len(reviews)\n",
    "    reviews.to_csv('D:\\\\Chicago_MScA\\\\Winter 2022\\\\Data Mining Principles\\\\Project\\\\yelp_review_samples_'+city+'.csv')\n",
    "    \n",
    "    print('city:', city)\n",
    "    print('len_df_business:', len_df_business)\n",
    "    print('len_business_list:', len_business_list)\n",
    "    print('total_original_reviews:', total_original_reviews)\n",
    "    print('len_reviews_sample:', len_reviews_sample)"
   ]
  },
  {
   "cell_type": "code",
   "execution_count": 15,
   "id": "3868fbac",
   "metadata": {},
   "outputs": [
    {
     "name": "stdout",
     "output_type": "stream",
     "text": [
      "city: Portland\n",
      "len_df_business: 2848\n",
      "len_business_list: 2848\n",
      "total_original_reviews: 530917\n",
      "len_reviews_sample: 26399\n",
      "city: Vancouver\n",
      "len_df_business: 2675\n",
      "len_business_list: 2675\n",
      "total_original_reviews: 276702\n",
      "len_reviews_sample: 23587\n"
     ]
    }
   ],
   "source": [
    "city_list = ['Portland','Vancouver']\n",
    "for city in city_list:\n",
    "    sample(city)"
   ]
  }
 ],
 "metadata": {
  "kernelspec": {
   "display_name": "Python 3 (ipykernel)",
   "language": "python",
   "name": "python3"
  },
  "language_info": {
   "codemirror_mode": {
    "name": "ipython",
    "version": 3
   },
   "file_extension": ".py",
   "mimetype": "text/x-python",
   "name": "python",
   "nbconvert_exporter": "python",
   "pygments_lexer": "ipython3",
   "version": "3.8.8"
  }
 },
 "nbformat": 4,
 "nbformat_minor": 5
}
